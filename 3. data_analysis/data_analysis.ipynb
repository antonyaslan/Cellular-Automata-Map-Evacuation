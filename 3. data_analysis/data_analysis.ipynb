{
 "cells": [
  {
   "cell_type": "code",
   "execution_count": 25,
   "metadata": {},
   "outputs": [],
   "source": [
    "# ! pip install imageio\n",
    "dimensions = 64\n",
    "upscaling = 1   #suggested for low resolutions\n",
    "saved = 0       #save frames "
   ]
  },
  {
   "cell_type": "code",
   "execution_count": 26,
   "metadata": {},
   "outputs": [],
   "source": [
    "from PIL import Image\n",
    "import numpy as np\n",
    "import pandas as pd \n",
    "import imageio\n",
    "from IPython.display import Image as inl\n",
    "from moviepy import * "
   ]
  },
  {
   "cell_type": "code",
   "execution_count": 27,
   "metadata": {
    "tags": [
     "outputPrepend"
    ]
   },
   "outputs": [],
   "source": [
    "f = open(\"list.lst\")\n",
    "lst = []\n",
    "for line in f:\n",
    "    line = line.replace('{', '')\n",
    "    line = line.replace('}', '')\n",
    "    line = line.replace('+', '')\n",
    "    lst.append(line)\n",
    "f.close()\n",
    "df = pd.DataFrame(lst) "
   ]
  },
  {
   "cell_type": "code",
   "execution_count": 28,
   "metadata": {
    "tags": [
     "outputPrepend"
    ]
   },
   "outputs": [],
   "source": [
    "def replace(string):\n",
    "    string = string.split(' ')\n",
    "    counter = 0\n",
    "    values = []\n",
    "    for item in string: \n",
    "        if(len(item) == 3):\n",
    "            if item == '001':\n",
    "                color = [0,0,255]\n",
    "            elif item == '010':\n",
    "                color = [0,255,0]\n",
    "            elif item == '100':\n",
    "                color = [255,0,0]\n",
    "            else:\n",
    "                color = [0,0,0]\n",
    "            counter=counter+1\n",
    "            values.append(color)\n",
    "    values = np.asarray(values)\n",
    "    values = values.reshape(dimensions,dimensions,3)\n",
    "    return values"
   ]
  },
  {
   "cell_type": "code",
   "execution_count": 29,
   "metadata": {},
   "outputs": [],
   "source": [
    "frames_counter = 0\n",
    "filenames = []\n",
    "images = []\n",
    "for i in range(3,df[0].shape[0]):\n",
    "    frame = replace(df[0][i])\n",
    "    img = Image.fromarray(frame.astype('uint8'), 'RGB')\n",
    "    if(upscaling):\n",
    "        img=img.resize((512,512), resample=Image.BOX)\n",
    "    if(saved):\n",
    "        name = 'frames/'+str(i)+'.png'\n",
    "        filenames.append(name)\n",
    "        img.save(name)\n",
    "    images.append(img)"
   ]
  },
  {
   "cell_type": "code",
   "execution_count": 30,
   "metadata": {},
   "outputs": [],
   "source": [
    "if(saved):\n",
    "    images = []\n",
    "    for filename in filenames:\n",
    "        images.append(imageio.imread(filename))\n",
    "imageio.mimsave('n3.gif', images,fps=40)\n"
   ]
  },
  {
   "cell_type": "code",
   "execution_count": null,
   "metadata": {},
   "outputs": [],
   "source": []
  },
  {
   "cell_type": "code",
   "execution_count": null,
   "metadata": {},
   "outputs": [],
   "source": []
  }
 ],
 "metadata": {
  "language_info": {
   "codemirror_mode": {
    "name": "ipython",
    "version": 3
   },
   "file_extension": ".py",
   "mimetype": "text/x-python",
   "name": "python",
   "nbconvert_exporter": "python",
   "pygments_lexer": "ipython3",
   "version": "3.7.3-final"
  },
  "orig_nbformat": 2,
  "kernelspec": {
   "name": "python37364bitc1c47c6e89e747178c6bd066f6e34233",
   "display_name": "Python 3.7.3 64-bit"
  }
 },
 "nbformat": 4,
 "nbformat_minor": 2
}